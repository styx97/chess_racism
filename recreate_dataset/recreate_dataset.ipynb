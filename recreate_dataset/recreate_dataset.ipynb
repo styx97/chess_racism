{
 "cells": [
  {
   "cell_type": "markdown",
   "metadata": {},
   "source": [
    "## Notebook with steps to recreate the dataset\n",
    "\n",
    "1. Get the commments list from the dataset_comment_ids.txt\n",
    "2. Download the comments using the YouTube Data API \n",
    "\n",
    "### Step 1\n",
    "\n",
    "You can authenticate with the Google API in various ways (using OAuth, keys etc)\n",
    "We have provided the code to download the comments, all you need is a key. \n",
    "A key can be obtained by opening a project in your google developer console and \n",
    "enabling the YouTube Data API for that project. \n",
    "\n",
    "The comments are stored in comment_ids.txt\n",
    "The following cell runs get_comments_from_comment_ids.py and save them in the folder 'raw_comments/'. Obtain a key and save it in keys.txt to download the comments. "
   ]
  },
  {
   "cell_type": "code",
   "execution_count": null,
   "metadata": {
    "scrolled": true
   },
   "outputs": [],
   "source": [
    "# keys.txt should contain 1 key in each line \n",
    "# comment_ids.txt contains the comment IDs \n",
    "# raw_comments/ is the save folder\n",
    "\n",
    "!python get_comments_from_comment_ids.py keys.txt comment_ids.txt raw_comments/ "
   ]
  },
  {
   "cell_type": "markdown",
   "metadata": {},
   "source": [
    "### Step 2 \n",
    "\n",
    "1. Load comments from raw_comments/ \n",
    "2. Verify sha1 hash\n",
    "3. Save in a json file and delete the individual files"
   ]
  },
  {
   "cell_type": "code",
   "execution_count": null,
   "metadata": {},
   "outputs": [],
   "source": [
    "from pprint import pprint\n",
    "import random, math\n",
    "from utils import *\n",
    "import json, os, sys \n",
    "import hashlib \n",
    "import shutil "
   ]
  },
  {
   "cell_type": "code",
   "execution_count": null,
   "metadata": {},
   "outputs": [],
   "source": [
    "comment_list = os.listdir(\"raw_comments/\")"
   ]
  },
  {
   "cell_type": "code",
   "execution_count": null,
   "metadata": {
    "scrolled": true
   },
   "outputs": [],
   "source": [
    "# Retrieve comments and check sha1 hash value \n",
    "\n",
    "\n",
    "all_comments_retrieved = {}\n",
    "sha1 = hashlib.sha1() \n",
    "\n",
    "with open(\"comment_ids_with_hash.json\")  as fp : \n",
    "    doc = json.load(fp)\n",
    "\n",
    "\n",
    "for comment in comment_list: \n",
    "    comment_filepath = os.path.join(\"raw_comments\",comment)\n",
    "    with open(comment_filepath, encoding='utf-8') as fp : \n",
    "        \n",
    "        comment_doc = json.load(fp)\n",
    "        if comment_doc[comment] != \"Comment has been removed by the user. To consruct full dataset, contact authors.\" : \n",
    "            comment_text = comment_doc[comment] \n",
    "            comment_hash = hashlib.sha1(comment_text.encode('utf-8'))\n",
    "            digest = comment_hash.hexdigest() \n",
    "            if digest != doc[comment] : \n",
    "                print(f\"The comment {comment} has been removed or modified since the collection of this dataset, contact authors for full data.\")\n",
    "                \n",
    "            else : \n",
    "                all_comments_retrieved[comment] = comment_text"
   ]
  },
  {
   "cell_type": "code",
   "execution_count": null,
   "metadata": {},
   "outputs": [],
   "source": [
    "print(f\"{len(all_comments_retrieved)}/1000 comments from our released samples were retrieved in their original state. Contact authors for full dataset.\")"
   ]
  },
  {
   "cell_type": "code",
   "execution_count": null,
   "metadata": {},
   "outputs": [],
   "source": [
    "# save the comments in a json file \n",
    "\n",
    "\n",
    "with open(\"sample_comments.json\", \"w\") as fp : \n",
    "    json.dump(all_comments_retrieved, fp, indent=4)"
   ]
  },
  {
   "cell_type": "code",
   "execution_count": null,
   "metadata": {},
   "outputs": [],
   "source": [
    "# remove the individual download folders \n",
    "\n",
    "\n",
    "shutil.rmtree(\"raw_comments/\")"
   ]
  },
  {
   "cell_type": "code",
   "execution_count": null,
   "metadata": {},
   "outputs": [],
   "source": []
  }
 ],
 "metadata": {
  "kernelspec": {
   "display_name": "Python [conda env:py3] *",
   "language": "python",
   "name": "conda-env-py3-py"
  },
  "language_info": {
   "codemirror_mode": {
    "name": "ipython",
    "version": 3
   },
   "file_extension": ".py",
   "mimetype": "text/x-python",
   "name": "python",
   "nbconvert_exporter": "python",
   "pygments_lexer": "ipython3",
   "version": "3.7.6"
  }
 },
 "nbformat": 4,
 "nbformat_minor": 2
}
